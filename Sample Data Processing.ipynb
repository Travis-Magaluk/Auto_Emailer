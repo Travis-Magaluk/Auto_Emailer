{
 "cells": [
  {
   "cell_type": "markdown",
   "id": "430f17d5",
   "metadata": {},
   "source": [
    "# Sample Email Creation\n",
    "\n",
    "\n",
    "## Exploring email based on spreadsheet values. \n"
   ]
  },
  {
   "cell_type": "code",
   "execution_count": 6,
   "id": "3972e277",
   "metadata": {},
   "outputs": [],
   "source": [
    "import numpy as np\n",
    "import pandas as pd"
   ]
  },
  {
   "cell_type": "code",
   "execution_count": 7,
   "id": "57287e9d",
   "metadata": {
    "scrolled": true
   },
   "outputs": [
    {
     "data": {
      "text/html": [
       "<div>\n",
       "<style scoped>\n",
       "    .dataframe tbody tr th:only-of-type {\n",
       "        vertical-align: middle;\n",
       "    }\n",
       "\n",
       "    .dataframe tbody tr th {\n",
       "        vertical-align: top;\n",
       "    }\n",
       "\n",
       "    .dataframe thead th {\n",
       "        text-align: right;\n",
       "    }\n",
       "</style>\n",
       "<table border=\"1\" class=\"dataframe\">\n",
       "  <thead>\n",
       "    <tr style=\"text-align: right;\">\n",
       "      <th></th>\n",
       "      <th>First Name</th>\n",
       "      <th>Last Name</th>\n",
       "      <th>Email</th>\n",
       "      <th>Health Screening</th>\n",
       "      <th>Health Assessment</th>\n",
       "      <th>Digital Coaching Program</th>\n",
       "      <th>First Activity Campaign</th>\n",
       "      <th>Second Activity Campaign</th>\n",
       "    </tr>\n",
       "  </thead>\n",
       "  <tbody>\n",
       "    <tr>\n",
       "      <th>0</th>\n",
       "      <td>Travis</td>\n",
       "      <td>Magaluk</td>\n",
       "      <td>travis.magaluk@wasatchacademy.org</td>\n",
       "      <td>Yes</td>\n",
       "      <td>Yes</td>\n",
       "      <td>Yes</td>\n",
       "      <td>Yes</td>\n",
       "      <td>Yes</td>\n",
       "    </tr>\n",
       "    <tr>\n",
       "      <th>1</th>\n",
       "      <td>T$</td>\n",
       "      <td>M$</td>\n",
       "      <td>twmagalu@gmail.com</td>\n",
       "      <td>Yes</td>\n",
       "      <td>Yes</td>\n",
       "      <td>No</td>\n",
       "      <td>No</td>\n",
       "      <td>No</td>\n",
       "    </tr>\n",
       "  </tbody>\n",
       "</table>\n",
       "</div>"
      ],
      "text/plain": [
       "  First Name Last Name                              Email Health Screening  \\\n",
       "0     Travis   Magaluk  travis.magaluk@wasatchacademy.org              Yes   \n",
       "1         T$        M$                 twmagalu@gmail.com              Yes   \n",
       "\n",
       "  Health Assessment Digital Coaching Program First Activity Campaign  \\\n",
       "0               Yes                      Yes                     Yes   \n",
       "1               Yes                       No                      No   \n",
       "\n",
       "  Second Activity Campaign  \n",
       "0                      Yes  \n",
       "1                       No  "
      ]
     },
     "metadata": {},
     "output_type": "display_data"
    }
   ],
   "source": [
    "email_list = pd.read_csv(\"Sample Data.csv\")\n",
    "display(email_list)"
   ]
  },
  {
   "cell_type": "code",
   "execution_count": 8,
   "id": "1a3544e5",
   "metadata": {},
   "outputs": [],
   "source": [
    "def completed_check(item_list, i, output):\n",
    "    if item_list[i]=='Yes':\n",
    "        completed.append(output)\n",
    "    else:\n",
    "        un_completed.append(output)\n"
   ]
  },
  {
   "cell_type": "code",
   "execution_count": 9,
   "id": "d062a8be",
   "metadata": {},
   "outputs": [
    {
     "name": "stdout",
     "output_type": "stream",
     "text": [
      "['Health Screening', 'Health Assessment', 'Digital Coaching Program', 'First Activity Campaign', 'Second Activity Campaign']\n",
      "[]\n",
      "Dear Travis Magaluk,\n",
      "    \n",
      "Thank you for being an active participant in Wasatch Academy’s Health and wellness program. In order to keep our benefits at the current level, we need 70% participation from faculty and staff. I wanted to reach out to update you on where you stand in this process. \n",
      "\n",
      "You have completed all of the required activities for the health and wellness program. Thank you for participating in this program. Make sure to submit a receipt for reimbursement for passes or equipment.\n",
      "\n",
      "In order to qualify for the activity pass reimbursement or equipment reimbursement, you still need to complete []. \n",
      "\n",
      "For more information on requirements and how to complete them, please visit this link.\n",
      "\n",
      "Please reach out to Michelle Prows if you have any questions regarding these requirements. \n",
      "\n",
      "Sincerely, \n",
      "The Health and Wellness Team\n",
      "\n",
      "    \n",
      "    \n",
      "    \n",
      "['Health Screening', 'Health Assessment']\n",
      "['Digital Coaching Program', 'First Activity Campaign', 'Second Activity Campaign']\n",
      "Dear T$ M$,\n",
      "    \n",
      "Thank you for being an active participant in Wasatch Academy’s Health and wellness program. In order to keep our benefits at the current level, we need 70% participation from faculty and staff. I wanted to reach out to update you on where you stand in this process. \n",
      "\n",
      "You have completed all of the required activities for the health and wellness program. Thank you for participating in this program. Make sure to submit a receipt for reimbursement for passes or equipment.\n",
      "\n",
      "In order to qualify for the activity pass reimbursement or equipment reimbursement, you still need to complete ['Digital Coaching Program', 'First Activity Campaign', 'Second Activity Campaign']. \n",
      "\n",
      "For more information on requirements and how to complete them, please visit this link.\n",
      "\n",
      "Please reach out to Michelle Prows if you have any questions regarding these requirements. \n",
      "\n",
      "Sincerely, \n",
      "The Health and Wellness Team\n",
      "\n",
      "    \n",
      "    \n",
      "    \n"
     ]
    }
   ],
   "source": [
    "# Get all the Names, Email Addreses, Status on Screening\n",
    "\n",
    "all_names = email_list['First Name'] + \" \" + email_list['Last Name']\n",
    "all_emails = email_list['Email']\n",
    "all_health_screen = email_list['Health Screening']\n",
    "all_health_assessment = email_list['Health Assessment']\n",
    "all_digital_coaching = email_list['Digital Coaching Program']\n",
    "all_first_activity = email_list['First Activity Campaign']\n",
    "all_second_activity = email_list['Second Activity Campaign']\n",
    "\n",
    "for idx in range(len(all_emails)):\n",
    "    name = all_names[idx]\n",
    "    email = all_emails[idx]\n",
    "    \n",
    "#     Created two lists completed and un_completed to differ what activites folks have completed and what activities they have not completed. Will use this to fill out the body of the email. \n",
    "    \n",
    "    completed = []\n",
    "    un_completed = []\n",
    "    \n",
    "    if all_health_screen[idx]=='Yes':\n",
    "        completed.append('Health Screening')\n",
    "    else:\n",
    "        un_completed.append('Health Screening')\n",
    "        \n",
    "    if all_health_assessment[idx]=='Yes':\n",
    "        completed.append('Health Assessment')\n",
    "    else:\n",
    "        un_completed.append('Health Assessment')\n",
    "    \n",
    "    if all_digital_coaching[idx]=='Yes':\n",
    "        completed.append('Digital Coaching Program')\n",
    "    else:\n",
    "        un_completed.append('Digital Coaching Program')\n",
    "    \n",
    "    if all_first_activity[idx]=='Yes':\n",
    "        completed.append('First Activity Campaign')\n",
    "    else:\n",
    "        un_completed.append('First Activity Campaign')\n",
    "        \n",
    "    if all_second_activity[idx]=='Yes':\n",
    "        completed.append('Second Activity Campaign')\n",
    "    else:\n",
    "        un_completed.append('Second Activity Campaign')\n",
    "        \n",
    "    print(completed)\n",
    "    print(un_completed)\n",
    "        \n",
    "    if len(completed) == 5: \n",
    "        completed_string = \"\"\"You have completed all of the required activities for the health and wellness program. Thank you for participating in this program. Make sure to submit a receipt for reimbursement for passes or equipment.\"\"\"\n",
    "    elif len(completed) < 2:\n",
    "        completed_string = f\"\"\"As of today, you have completed {completed[0]}. Thank you for your efforts in order to complete these health and wellness initiatives.\"\"\"\n",
    "    else: \n",
    "        completed_items_string = ' '\n",
    "        for i in range(len(completed)):\n",
    "            if i < len(completed) - 2:\n",
    "                completed_items_string += \" \" + completed[i] + ','\n",
    "            elif i < len(completed) - 1:\n",
    "                completed_items_string += \" \" + completed[i] + ', and'\n",
    "            else:\n",
    "                completed_items_string += \" \" + completed[i] + '.'\n",
    "    \n",
    "    \n",
    "    full_list = []\n",
    "    full_list.append(name)\n",
    "    full_list.append(email)\n",
    "    full_list.append(completed)\n",
    "    full_list.append(un_completed)\n",
    "\n",
    "    \n",
    "    email_body = f\"\"\"Dear {name},\n",
    "    \n",
    "Thank you for being an active participant in Wasatch Academy’s Health and wellness program. In order to keep our benefits at the current level, we need 70% participation from faculty and staff. I wanted to reach out to update you on where you stand in this process. \n",
    "\n",
    "{completed_string}\n",
    "\n",
    "In order to qualify for the activity pass reimbursement or equipment reimbursement, you still need to complete {un_completed}. \n",
    "\n",
    "For more information on requirements and how to complete them, please visit this link.\n",
    "\n",
    "Please reach out to Michelle Prows if you have any questions regarding these requirements. \n",
    "\n",
    "Sincerely, \n",
    "The Health and Wellness Team\n",
    "\n",
    "    \n",
    "    \n",
    "    \"\"\"\n",
    "    print(email_body)"
   ]
  },
  {
   "cell_type": "code",
   "execution_count": 10,
   "id": "0c9329a3",
   "metadata": {},
   "outputs": [
    {
     "name": "stdout",
     "output_type": "stream",
     "text": [
      "  cat, dog, and fish.\n"
     ]
    }
   ],
   "source": [
    "items = ['cat', 'dog', 'fish']\n",
    "completed_items_string = ' '\n",
    "for i in range(len(items)):\n",
    "    if i < len(items) - 2:\n",
    "        completed_items_string += \" \" + items[i] + ','\n",
    "    elif i < len(items) - 1:\n",
    "        completed_items_string += \" \" + items[i] + ', and'\n",
    "    else:\n",
    "        completed_items_string += \" \" + items[i] + '.'\n",
    "\n",
    "print(completed_items_string)"
   ]
  },
  {
   "cell_type": "code",
   "execution_count": 13,
   "id": "79e92c5c",
   "metadata": {},
   "outputs": [
    {
     "name": "stdout",
     "output_type": "stream",
     "text": [
      "['All health screen completed']\n",
      "[]\n"
     ]
    }
   ],
   "source": [
    "completed = []\n",
    "un_completed = []\n",
    "\n",
    "completed_check(all_health_screen, 1, \"All health screen completed\")\n",
    "\n",
    "print(completed)\n",
    "print(un_completed)\n"
   ]
  },
  {
   "cell_type": "code",
   "execution_count": null,
   "id": "1f5def71",
   "metadata": {},
   "outputs": [],
   "source": []
  }
 ],
 "metadata": {
  "kernelspec": {
   "display_name": "Python 3 (ipykernel)",
   "language": "python",
   "name": "python3"
  },
  "language_info": {
   "codemirror_mode": {
    "name": "ipython",
    "version": 3
   },
   "file_extension": ".py",
   "mimetype": "text/x-python",
   "name": "python",
   "nbconvert_exporter": "python",
   "pygments_lexer": "ipython3",
   "version": "3.9.5"
  }
 },
 "nbformat": 4,
 "nbformat_minor": 5
}
